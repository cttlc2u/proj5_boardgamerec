{
 "cells": [
  {
   "cell_type": "code",
   "execution_count": 1,
   "id": "acquired-count",
   "metadata": {},
   "outputs": [],
   "source": [
    "import numpy as np\n",
    "import pandas as pd\n",
    "import matplotlib.pyplot as plt\n",
    "import pickle\n",
    "import nltk\n",
    "from sklearn.metrics.pairwise import cosine_similarity"
   ]
  },
  {
   "cell_type": "code",
   "execution_count": 2,
   "id": "nuclear-painting",
   "metadata": {},
   "outputs": [],
   "source": [
    "with open('rec_df.pickle', 'rb') as f:\n",
    "    df = pickle.load(f)"
   ]
  },
  {
   "cell_type": "code",
   "execution_count": 82,
   "id": "electric-measure",
   "metadata": {},
   "outputs": [
    {
     "name": "stdout",
     "output_type": "stream",
     "text": [
      "<class 'pandas.core.frame.DataFrame'>\n",
      "RangeIndex: 100088 entries, 0 to 100087\n",
      "Columns: 4419 entries, name to complexity\n",
      "dtypes: float64(9), int64(4409), object(1)\n",
      "memory usage: 3.3+ GB\n"
     ]
    }
   ],
   "source": [
    "df.info()"
   ]
  },
  {
   "cell_type": "code",
   "execution_count": 3,
   "id": "polar-conversion",
   "metadata": {},
   "outputs": [
    {
     "data": {
      "text/plain": [
       "Index(['name', 'avg_sentiment_score', 'url', 'yr_pub', 'min_players',\n",
       "       'max_players', 'avg_play_time', 'min_play_time', 'max_play_time',\n",
       "       'min_age',\n",
       "       ...\n",
       "       'Video Game Theme: SEGA', 'Video Game Theme: Sonic the Hedgehog',\n",
       "       'Video Game Theme: Super Mario Bros.', 'Video Game Theme: Tetris',\n",
       "       'Webcomics: Dork Tower', 'Webcomics: Penny Arcade',\n",
       "       'Word Games: First Letter Given', 'Word Games: Guess the Word',\n",
       "       'Word Games: Sign Language', 'Word Games: Spelling / Letters'],\n",
       "      dtype='object', length=4420)"
      ]
     },
     "execution_count": 3,
     "metadata": {},
     "output_type": "execute_result"
    }
   ],
   "source": [
    "df.columns"
   ]
  },
  {
   "cell_type": "code",
   "execution_count": 5,
   "id": "technical-newport",
   "metadata": {},
   "outputs": [
    {
     "ename": "KeyError",
     "evalue": "'avg_user_rating'",
     "output_type": "error",
     "traceback": [
      "\u001b[0;31m---------------------------------------------------------------------------\u001b[0m",
      "\u001b[0;31mKeyError\u001b[0m                                  Traceback (most recent call last)",
      "\u001b[0;32m~/anaconda3/lib/python3.7/site-packages/pandas/core/indexes/base.py\u001b[0m in \u001b[0;36mget_loc\u001b[0;34m(self, key, method, tolerance)\u001b[0m\n\u001b[1;32m   3079\u001b[0m             \u001b[0;32mtry\u001b[0m\u001b[0;34m:\u001b[0m\u001b[0;34m\u001b[0m\u001b[0;34m\u001b[0m\u001b[0m\n\u001b[0;32m-> 3080\u001b[0;31m                 \u001b[0;32mreturn\u001b[0m \u001b[0mself\u001b[0m\u001b[0;34m.\u001b[0m\u001b[0m_engine\u001b[0m\u001b[0;34m.\u001b[0m\u001b[0mget_loc\u001b[0m\u001b[0;34m(\u001b[0m\u001b[0mcasted_key\u001b[0m\u001b[0;34m)\u001b[0m\u001b[0;34m\u001b[0m\u001b[0;34m\u001b[0m\u001b[0m\n\u001b[0m\u001b[1;32m   3081\u001b[0m             \u001b[0;32mexcept\u001b[0m \u001b[0mKeyError\u001b[0m \u001b[0;32mas\u001b[0m \u001b[0merr\u001b[0m\u001b[0;34m:\u001b[0m\u001b[0;34m\u001b[0m\u001b[0;34m\u001b[0m\u001b[0m\n",
      "\u001b[0;32mpandas/_libs/index.pyx\u001b[0m in \u001b[0;36mpandas._libs.index.IndexEngine.get_loc\u001b[0;34m()\u001b[0m\n",
      "\u001b[0;32mpandas/_libs/index.pyx\u001b[0m in \u001b[0;36mpandas._libs.index.IndexEngine.get_loc\u001b[0;34m()\u001b[0m\n",
      "\u001b[0;32mpandas/_libs/index.pyx\u001b[0m in \u001b[0;36mpandas._libs.index.IndexEngine._get_loc_duplicates\u001b[0;34m()\u001b[0m\n",
      "\u001b[0;32mpandas/_libs/index.pyx\u001b[0m in \u001b[0;36mpandas._libs.index.IndexEngine._maybe_get_bool_indexer\u001b[0;34m()\u001b[0m\n",
      "\u001b[0;32mpandas/_libs/index.pyx\u001b[0m in \u001b[0;36mpandas._libs.index.IndexEngine._unpack_bool_indexer\u001b[0;34m()\u001b[0m\n",
      "\u001b[0;31mKeyError\u001b[0m: 'avg_user_rating'",
      "\nThe above exception was the direct cause of the following exception:\n",
      "\u001b[0;31mKeyError\u001b[0m                                  Traceback (most recent call last)",
      "\u001b[0;32m<ipython-input-5-75b9a945c237>\u001b[0m in \u001b[0;36m<module>\u001b[0;34m\u001b[0m\n\u001b[0;32m----> 1\u001b[0;31m \u001b[0mdf\u001b[0m\u001b[0;34m[\u001b[0m\u001b[0;34m'avg_user_rating'\u001b[0m\u001b[0;34m]\u001b[0m\u001b[0;34m.\u001b[0m\u001b[0mhead\u001b[0m\u001b[0;34m(\u001b[0m\u001b[0;34m)\u001b[0m\u001b[0;34m\u001b[0m\u001b[0;34m\u001b[0m\u001b[0m\n\u001b[0m",
      "\u001b[0;32m~/anaconda3/lib/python3.7/site-packages/pandas/core/frame.py\u001b[0m in \u001b[0;36m__getitem__\u001b[0;34m(self, key)\u001b[0m\n\u001b[1;32m   3022\u001b[0m             \u001b[0;32mif\u001b[0m \u001b[0mself\u001b[0m\u001b[0;34m.\u001b[0m\u001b[0mcolumns\u001b[0m\u001b[0;34m.\u001b[0m\u001b[0mnlevels\u001b[0m \u001b[0;34m>\u001b[0m \u001b[0;36m1\u001b[0m\u001b[0;34m:\u001b[0m\u001b[0;34m\u001b[0m\u001b[0;34m\u001b[0m\u001b[0m\n\u001b[1;32m   3023\u001b[0m                 \u001b[0;32mreturn\u001b[0m \u001b[0mself\u001b[0m\u001b[0;34m.\u001b[0m\u001b[0m_getitem_multilevel\u001b[0m\u001b[0;34m(\u001b[0m\u001b[0mkey\u001b[0m\u001b[0;34m)\u001b[0m\u001b[0;34m\u001b[0m\u001b[0;34m\u001b[0m\u001b[0m\n\u001b[0;32m-> 3024\u001b[0;31m             \u001b[0mindexer\u001b[0m \u001b[0;34m=\u001b[0m \u001b[0mself\u001b[0m\u001b[0;34m.\u001b[0m\u001b[0mcolumns\u001b[0m\u001b[0;34m.\u001b[0m\u001b[0mget_loc\u001b[0m\u001b[0;34m(\u001b[0m\u001b[0mkey\u001b[0m\u001b[0;34m)\u001b[0m\u001b[0;34m\u001b[0m\u001b[0;34m\u001b[0m\u001b[0m\n\u001b[0m\u001b[1;32m   3025\u001b[0m             \u001b[0;32mif\u001b[0m \u001b[0mis_integer\u001b[0m\u001b[0;34m(\u001b[0m\u001b[0mindexer\u001b[0m\u001b[0;34m)\u001b[0m\u001b[0;34m:\u001b[0m\u001b[0;34m\u001b[0m\u001b[0;34m\u001b[0m\u001b[0m\n\u001b[1;32m   3026\u001b[0m                 \u001b[0mindexer\u001b[0m \u001b[0;34m=\u001b[0m \u001b[0;34m[\u001b[0m\u001b[0mindexer\u001b[0m\u001b[0;34m]\u001b[0m\u001b[0;34m\u001b[0m\u001b[0;34m\u001b[0m\u001b[0m\n",
      "\u001b[0;32m~/anaconda3/lib/python3.7/site-packages/pandas/core/indexes/base.py\u001b[0m in \u001b[0;36mget_loc\u001b[0;34m(self, key, method, tolerance)\u001b[0m\n\u001b[1;32m   3080\u001b[0m                 \u001b[0;32mreturn\u001b[0m \u001b[0mself\u001b[0m\u001b[0;34m.\u001b[0m\u001b[0m_engine\u001b[0m\u001b[0;34m.\u001b[0m\u001b[0mget_loc\u001b[0m\u001b[0;34m(\u001b[0m\u001b[0mcasted_key\u001b[0m\u001b[0;34m)\u001b[0m\u001b[0;34m\u001b[0m\u001b[0;34m\u001b[0m\u001b[0m\n\u001b[1;32m   3081\u001b[0m             \u001b[0;32mexcept\u001b[0m \u001b[0mKeyError\u001b[0m \u001b[0;32mas\u001b[0m \u001b[0merr\u001b[0m\u001b[0;34m:\u001b[0m\u001b[0;34m\u001b[0m\u001b[0;34m\u001b[0m\u001b[0m\n\u001b[0;32m-> 3082\u001b[0;31m                 \u001b[0;32mraise\u001b[0m \u001b[0mKeyError\u001b[0m\u001b[0;34m(\u001b[0m\u001b[0mkey\u001b[0m\u001b[0;34m)\u001b[0m \u001b[0;32mfrom\u001b[0m \u001b[0merr\u001b[0m\u001b[0;34m\u001b[0m\u001b[0;34m\u001b[0m\u001b[0m\n\u001b[0m\u001b[1;32m   3083\u001b[0m \u001b[0;34m\u001b[0m\u001b[0m\n\u001b[1;32m   3084\u001b[0m         \u001b[0;32mif\u001b[0m \u001b[0mtolerance\u001b[0m \u001b[0;32mis\u001b[0m \u001b[0;32mnot\u001b[0m \u001b[0;32mNone\u001b[0m\u001b[0;34m:\u001b[0m\u001b[0;34m\u001b[0m\u001b[0;34m\u001b[0m\u001b[0m\n",
      "\u001b[0;31mKeyError\u001b[0m: 'avg_user_rating'"
     ]
    }
   ],
   "source": [
    "df['avg_user_rating'].head()"
   ]
  },
  {
   "cell_type": "code",
   "execution_count": 55,
   "id": "moderate-decade",
   "metadata": {},
   "outputs": [
    {
     "data": {
      "text/plain": [
       "Index(['name', 'avg_sentiment_score', 'url', 'yr_pub', 'min_players',\n",
       "       'max_players', 'avg_play_time', 'min_play_time', 'max_play_time',\n",
       "       'min_age',\n",
       "       ...\n",
       "       'Video Game Theme: SEGA', 'Video Game Theme: Sonic the Hedgehog',\n",
       "       'Video Game Theme: Super Mario Bros.', 'Video Game Theme: Tetris',\n",
       "       'Webcomics: Dork Tower', 'Webcomics: Penny Arcade',\n",
       "       'Word Games: First Letter Given', 'Word Games: Guess the Word',\n",
       "       'Word Games: Sign Language', 'Word Games: Spelling / Letters'],\n",
       "      dtype='object', length=4420)"
      ]
     },
     "execution_count": 55,
     "metadata": {},
     "output_type": "execute_result"
    }
   ],
   "source": [
    "df.columns"
   ]
  },
  {
   "cell_type": "code",
   "execution_count": null,
   "id": "treated-exclusion",
   "metadata": {},
   "outputs": [],
   "source": [
    "#var take in filters\n",
    "#get board game idx\n",
    "#reshape input\n",
    "#run cos_sim on df and bg\n",
    "#sort and find closest games"
   ]
  },
  {
   "cell_type": "code",
   "execution_count": 68,
   "id": "deluxe-collaboration",
   "metadata": {},
   "outputs": [],
   "source": [
    "#'yr_pub',\n",
    "rec_columns = ['avg_play_time','min_players','min_age','has_expansion','complexity','avg_sentiment_score']\n",
    "#rec_columns = ['has_expansion','complexity']"
   ]
  },
  {
   "cell_type": "code",
   "execution_count": 65,
   "id": "occasional-detail",
   "metadata": {},
   "outputs": [
    {
     "data": {
      "text/html": [
       "<div>\n",
       "<style scoped>\n",
       "    .dataframe tbody tr th:only-of-type {\n",
       "        vertical-align: middle;\n",
       "    }\n",
       "\n",
       "    .dataframe tbody tr th {\n",
       "        vertical-align: top;\n",
       "    }\n",
       "\n",
       "    .dataframe thead th {\n",
       "        text-align: right;\n",
       "    }\n",
       "</style>\n",
       "<table border=\"1\" class=\"dataframe\">\n",
       "  <thead>\n",
       "    <tr style=\"text-align: right;\">\n",
       "      <th></th>\n",
       "      <th>has_expansion</th>\n",
       "      <th>complexity</th>\n",
       "    </tr>\n",
       "  </thead>\n",
       "  <tbody>\n",
       "    <tr>\n",
       "      <th>0</th>\n",
       "      <td>0</td>\n",
       "      <td>0.00</td>\n",
       "    </tr>\n",
       "    <tr>\n",
       "      <th>1</th>\n",
       "      <td>0</td>\n",
       "      <td>0.00</td>\n",
       "    </tr>\n",
       "    <tr>\n",
       "      <th>2</th>\n",
       "      <td>0</td>\n",
       "      <td>2.75</td>\n",
       "    </tr>\n",
       "    <tr>\n",
       "      <th>3</th>\n",
       "      <td>0</td>\n",
       "      <td>0.00</td>\n",
       "    </tr>\n",
       "    <tr>\n",
       "      <th>4</th>\n",
       "      <td>0</td>\n",
       "      <td>0.00</td>\n",
       "    </tr>\n",
       "  </tbody>\n",
       "</table>\n",
       "</div>"
      ],
      "text/plain": [
       "   has_expansion  complexity\n",
       "0              0        0.00\n",
       "1              0        0.00\n",
       "2              0        2.75\n",
       "3              0        0.00\n",
       "4              0        0.00"
      ]
     },
     "execution_count": 65,
     "metadata": {},
     "output_type": "execute_result"
    }
   ],
   "source": [
    "df[['has_expansion','complexity']].head()"
   ]
  },
  {
   "cell_type": "code",
   "execution_count": 25,
   "id": "precious-sample",
   "metadata": {},
   "outputs": [],
   "source": [
    "game_name = 'Pandemic'"
   ]
  },
  {
   "cell_type": "code",
   "execution_count": 11,
   "id": "unable-montreal",
   "metadata": {},
   "outputs": [
    {
     "data": {
      "text/plain": [
       "'pandemic'"
      ]
     },
     "execution_count": 11,
     "metadata": {},
     "output_type": "execute_result"
    }
   ],
   "source": [
    "game_name.lower()"
   ]
  },
  {
   "cell_type": "code",
   "execution_count": 26,
   "id": "sensitive-nashville",
   "metadata": {},
   "outputs": [],
   "source": [
    "test = df[df['name']==game_name.title()].index.values"
   ]
  },
  {
   "cell_type": "code",
   "execution_count": 14,
   "id": "baking-internet",
   "metadata": {},
   "outputs": [
    {
     "data": {
      "text/html": [
       "<div>\n",
       "<style scoped>\n",
       "    .dataframe tbody tr th:only-of-type {\n",
       "        vertical-align: middle;\n",
       "    }\n",
       "\n",
       "    .dataframe tbody tr th {\n",
       "        vertical-align: top;\n",
       "    }\n",
       "\n",
       "    .dataframe thead th {\n",
       "        text-align: right;\n",
       "    }\n",
       "</style>\n",
       "<table border=\"1\" class=\"dataframe\">\n",
       "  <thead>\n",
       "    <tr style=\"text-align: right;\">\n",
       "      <th></th>\n",
       "      <th>name</th>\n",
       "      <th>avg_sentiment_score</th>\n",
       "      <th>Abstract Strategy</th>\n",
       "      <th>Action / Dexterity</th>\n",
       "      <th>Adventure</th>\n",
       "      <th>Age of Reason</th>\n",
       "      <th>American Civil War</th>\n",
       "      <th>American Indian Wars</th>\n",
       "      <th>American Revolutionary War</th>\n",
       "      <th>American West</th>\n",
       "      <th>...</th>\n",
       "      <th>Word Games: Sign Language</th>\n",
       "      <th>Word Games: Spelling / Letters</th>\n",
       "      <th>yr_pub</th>\n",
       "      <th>min_players</th>\n",
       "      <th>max_players</th>\n",
       "      <th>avg_play_time</th>\n",
       "      <th>min_play_time</th>\n",
       "      <th>max_play_time</th>\n",
       "      <th>min_age</th>\n",
       "      <th>complexity</th>\n",
       "    </tr>\n",
       "  </thead>\n",
       "  <tbody>\n",
       "    <tr>\n",
       "      <th>57521</th>\n",
       "      <td>Pandemic</td>\n",
       "      <td>1.0</td>\n",
       "      <td>0</td>\n",
       "      <td>0</td>\n",
       "      <td>0</td>\n",
       "      <td>0</td>\n",
       "      <td>0</td>\n",
       "      <td>0</td>\n",
       "      <td>0</td>\n",
       "      <td>0</td>\n",
       "      <td>...</td>\n",
       "      <td>0</td>\n",
       "      <td>0</td>\n",
       "      <td>0.351287</td>\n",
       "      <td>0.000258</td>\n",
       "      <td>-0.044188</td>\n",
       "      <td>-0.003661</td>\n",
       "      <td>0.005317</td>\n",
       "      <td>-0.003661</td>\n",
       "      <td>0.081888</td>\n",
       "      <td>1.425255</td>\n",
       "    </tr>\n",
       "  </tbody>\n",
       "</table>\n",
       "<p>1 rows × 4419 columns</p>\n",
       "</div>"
      ],
      "text/plain": [
       "           name  avg_sentiment_score  Abstract Strategy  Action / Dexterity  \\\n",
       "57521  Pandemic                  1.0                  0                   0   \n",
       "\n",
       "       Adventure  Age of Reason  American Civil War  American Indian Wars  \\\n",
       "57521          0              0                   0                     0   \n",
       "\n",
       "       American Revolutionary War  American West  ...  \\\n",
       "57521                           0              0  ...   \n",
       "\n",
       "       Word Games: Sign Language  Word Games: Spelling / Letters    yr_pub  \\\n",
       "57521                          0                               0  0.351287   \n",
       "\n",
       "       min_players  max_players  avg_play_time  min_play_time  max_play_time  \\\n",
       "57521     0.000258    -0.044188      -0.003661       0.005317      -0.003661   \n",
       "\n",
       "        min_age  complexity  \n",
       "57521  0.081888    1.425255  \n",
       "\n",
       "[1 rows x 4419 columns]"
      ]
     },
     "execution_count": 14,
     "metadata": {},
     "output_type": "execute_result"
    }
   ],
   "source": [
    "df.iloc[test]"
   ]
  },
  {
   "cell_type": "code",
   "execution_count": 10,
   "id": "affiliated-tours",
   "metadata": {},
   "outputs": [
    {
     "data": {
      "text/plain": [
       "array([     0,      1,      2, ..., 100085, 100086, 100087])"
      ]
     },
     "execution_count": 10,
     "metadata": {},
     "output_type": "execute_result"
    }
   ],
   "source": [
    "df.index.values"
   ]
  },
  {
   "cell_type": "code",
   "execution_count": 69,
   "id": "excess-bedroom",
   "metadata": {},
   "outputs": [
    {
     "name": "stdout",
     "output_type": "stream",
     "text": [
      "[[30 2 0 0 1.0 0.9981]]\n"
     ]
    }
   ],
   "source": [
    "test = df.loc[100][rec_columns].values.reshape(1,-1)\n",
    "print(test)"
   ]
  },
  {
   "cell_type": "code",
   "execution_count": 52,
   "id": "spectacular-captain",
   "metadata": {},
   "outputs": [],
   "source": [
    "#get scores\n",
    "drop_cols = ['name','url','avg_user_rating','bgg_adj_rating']"
   ]
  },
  {
   "cell_type": "code",
   "execution_count": 33,
   "id": "wrapped-dating",
   "metadata": {},
   "outputs": [
    {
     "data": {
      "text/plain": [
       "[0,\n",
       " 1,\n",
       " 2,\n",
       " 3,\n",
       " 4,\n",
       " 5,\n",
       " 6,\n",
       " 7,\n",
       " 8,\n",
       " 9,\n",
       " 10,\n",
       " 11,\n",
       " 12,\n",
       " 13,\n",
       " 14,\n",
       " 15,\n",
       " 16,\n",
       " 17,\n",
       " 18,\n",
       " 19,\n",
       " 20,\n",
       " 21,\n",
       " 22,\n",
       " 23,\n",
       " 24,\n",
       " 25,\n",
       " 26,\n",
       " 27,\n",
       " 28,\n",
       " 29,\n",
       " 30,\n",
       " 31,\n",
       " 32,\n",
       " 33,\n",
       " 34,\n",
       " 35,\n",
       " 36,\n",
       " 37,\n",
       " 38,\n",
       " 39,\n",
       " 40,\n",
       " 41,\n",
       " 42,\n",
       " 43,\n",
       " 44,\n",
       " 45,\n",
       " 47,\n",
       " 48,\n",
       " 50,\n",
       " 51,\n",
       " 52,\n",
       " 54,\n",
       " 55,\n",
       " 56,\n",
       " 60,\n",
       " 61,\n",
       " 64,\n",
       " 68,\n",
       " 69,\n",
       " 72,\n",
       " 75,\n",
       " 76,\n",
       " 80,\n",
       " 81,\n",
       " 88,\n",
       " 90,\n",
       " 92,\n",
       " 96,\n",
       " 98,\n",
       " 99,\n",
       " 100,\n",
       " 101,\n",
       " 102,\n",
       " 103,\n",
       " 112,\n",
       " 120,\n",
       " 125,\n",
       " 127,\n",
       " 150,\n",
       " 160,\n",
       " 163,\n",
       " 190,\n",
       " 200,\n",
       " 250,\n",
       " 362,\n",
       " 399,\n",
       " 400,\n",
       " 420,\n",
       " 500,\n",
       " 600,\n",
       " 900,\n",
       " 999,\n",
       " 1000,\n",
       " 2000,\n",
       " 10000,\n",
       " 11299]"
      ]
     },
     "execution_count": 33,
     "metadata": {},
     "output_type": "execute_result"
    }
   ],
   "source": [
    "sorted(df['max_players'].unique())"
   ]
  },
  {
   "cell_type": "code",
   "execution_count": 34,
   "id": "guilty-prospect",
   "metadata": {},
   "outputs": [
    {
     "data": {
      "text/plain": [
       "42       6\n",
       "27       5\n",
       "52       5\n",
       "102      4\n",
       "500      4\n",
       "120      4\n",
       "39       3\n",
       "29       3\n",
       "31       3\n",
       "88       2\n",
       "34       2\n",
       "68       2\n",
       "150      2\n",
       "101      2\n",
       "54       2\n",
       "160      1\n",
       "399      1\n",
       "112      1\n",
       "76       1\n",
       "51       1\n",
       "72       1\n",
       "55       1\n",
       "69       1\n",
       "45       1\n",
       "56       1\n",
       "900      1\n",
       "250      1\n",
       "61       1\n",
       "125      1\n",
       "190      1\n",
       "47       1\n",
       "362      1\n",
       "400      1\n",
       "43       1\n",
       "96       1\n",
       "64       1\n",
       "163      1\n",
       "92       1\n",
       "90       1\n",
       "420      1\n",
       "37       1\n",
       "38       1\n",
       "600      1\n",
       "11299    1\n",
       "103      1\n",
       "23       1\n",
       "10000    1\n",
       "81       1\n",
       "2000     1\n",
       "127      1\n",
       "Name: max_players, dtype: int64"
      ]
     },
     "execution_count": 34,
     "metadata": {},
     "output_type": "execute_result"
    }
   ],
   "source": [
    "df['max_players'].value_counts().tail(50)"
   ]
  },
  {
   "cell_type": "code",
   "execution_count": 35,
   "id": "direct-chester",
   "metadata": {},
   "outputs": [
    {
     "data": {
      "text/plain": [
       "[0,\n",
       " 1,\n",
       " 2,\n",
       " 3,\n",
       " 4,\n",
       " 5,\n",
       " 6,\n",
       " 7,\n",
       " 8,\n",
       " 9,\n",
       " 10,\n",
       " 11,\n",
       " 12,\n",
       " 13,\n",
       " 14,\n",
       " 15,\n",
       " 16,\n",
       " 18,\n",
       " 20,\n",
       " 22,\n",
       " 24,\n",
       " 25,\n",
       " 40,\n",
       " 50]"
      ]
     },
     "execution_count": 35,
     "metadata": {},
     "output_type": "execute_result"
    }
   ],
   "source": [
    "sorted(df['min_players'].unique())"
   ]
  },
  {
   "cell_type": "code",
   "execution_count": 37,
   "id": "optional-tennis",
   "metadata": {},
   "outputs": [
    {
     "data": {
      "text/plain": [
       "2     72660\n",
       "1     14046\n",
       "3      8205\n",
       "4      2469\n",
       "0      1837\n",
       "6       243\n",
       "5       224\n",
       "8       219\n",
       "7        64\n",
       "10       44\n",
       "12       22\n",
       "9        21\n",
       "15        7\n",
       "20        5\n",
       "11        4\n",
       "13        4\n",
       "16        4\n",
       "14        3\n",
       "40        2\n",
       "18        1\n",
       "22        1\n",
       "24        1\n",
       "25        1\n",
       "50        1\n",
       "Name: min_players, dtype: int64"
      ]
     },
     "execution_count": 37,
     "metadata": {},
     "output_type": "execute_result"
    }
   ],
   "source": [
    "df['min_players'].value_counts()"
   ]
  },
  {
   "cell_type": "code",
   "execution_count": 38,
   "id": "frequent-texas",
   "metadata": {},
   "outputs": [
    {
     "data": {
      "text/plain": [
       "[0,\n",
       " 1,\n",
       " 2,\n",
       " 3,\n",
       " 4,\n",
       " 5,\n",
       " 6,\n",
       " 7,\n",
       " 8,\n",
       " 9,\n",
       " 10,\n",
       " 11,\n",
       " 12,\n",
       " 13,\n",
       " 14,\n",
       " 15,\n",
       " 16,\n",
       " 17,\n",
       " 18,\n",
       " 19,\n",
       " 20,\n",
       " 23,\n",
       " 24,\n",
       " 25,\n",
       " 27,\n",
       " 28,\n",
       " 30,\n",
       " 32,\n",
       " 33,\n",
       " 34,\n",
       " 35,\n",
       " 36,\n",
       " 37,\n",
       " 38,\n",
       " 39,\n",
       " 40,\n",
       " 41,\n",
       " 42,\n",
       " 44,\n",
       " 45,\n",
       " 46,\n",
       " 47,\n",
       " 48,\n",
       " 50,\n",
       " 55,\n",
       " 60,\n",
       " 65,\n",
       " 66,\n",
       " 68,\n",
       " 70,\n",
       " 72,\n",
       " 75,\n",
       " 79,\n",
       " 80,\n",
       " 85,\n",
       " 90,\n",
       " 95,\n",
       " 96,\n",
       " 97,\n",
       " 99,\n",
       " 100,\n",
       " 105,\n",
       " 108,\n",
       " 110,\n",
       " 111,\n",
       " 115,\n",
       " 118,\n",
       " 120,\n",
       " 125,\n",
       " 130,\n",
       " 135,\n",
       " 140,\n",
       " 150,\n",
       " 160,\n",
       " 165,\n",
       " 175,\n",
       " 180,\n",
       " 183,\n",
       " 190,\n",
       " 200,\n",
       " 202,\n",
       " 210,\n",
       " 220,\n",
       " 222,\n",
       " 225,\n",
       " 240,\n",
       " 250,\n",
       " 260,\n",
       " 270,\n",
       " 280,\n",
       " 290,\n",
       " 300,\n",
       " 320,\n",
       " 330,\n",
       " 340,\n",
       " 350,\n",
       " 360,\n",
       " 380,\n",
       " 400,\n",
       " 420,\n",
       " 445,\n",
       " 450,\n",
       " 460,\n",
       " 480,\n",
       " 500,\n",
       " 525,\n",
       " 540,\n",
       " 550,\n",
       " 600,\n",
       " 640,\n",
       " 660,\n",
       " 700,\n",
       " 720,\n",
       " 750,\n",
       " 780,\n",
       " 800,\n",
       " 810,\n",
       " 840,\n",
       " 900,\n",
       " 960,\n",
       " 999,\n",
       " 1000,\n",
       " 1080,\n",
       " 1180,\n",
       " 1200,\n",
       " 1260,\n",
       " 1400,\n",
       " 1440,\n",
       " 1500,\n",
       " 1620,\n",
       " 1710,\n",
       " 1740,\n",
       " 1800,\n",
       " 1920,\n",
       " 1950,\n",
       " 2000,\n",
       " 2004,\n",
       " 2005,\n",
       " 2100,\n",
       " 2160,\n",
       " 2200,\n",
       " 2400,\n",
       " 2480,\n",
       " 2880,\n",
       " 3000,\n",
       " 3600,\n",
       " 3900,\n",
       " 4000,\n",
       " 4200,\n",
       " 4500,\n",
       " 4560,\n",
       " 4800,\n",
       " 5000,\n",
       " 5400,\n",
       " 6000,\n",
       " 7920,\n",
       " 8000,\n",
       " 8400,\n",
       " 8640,\n",
       " 9000,\n",
       " 9600,\n",
       " 9999,\n",
       " 10000,\n",
       " 10080,\n",
       " 12000,\n",
       " 14400,\n",
       " 17280,\n",
       " 21600,\n",
       " 22500,\n",
       " 40320,\n",
       " 60000,\n",
       " 60120,\n",
       " 72000,\n",
       " 100000,\n",
       " 525600,\n",
       " 1576800,\n",
       " 30000000]"
      ]
     },
     "execution_count": 38,
     "metadata": {},
     "output_type": "execute_result"
    }
   ],
   "source": [
    "sorted(df['avg_play_time'].unique())"
   ]
  },
  {
   "cell_type": "code",
   "execution_count": 39,
   "id": "rubber-parameter",
   "metadata": {},
   "outputs": [
    {
     "data": {
      "text/plain": [
       "0        22225\n",
       "30       15846\n",
       "60       11182\n",
       "20        9195\n",
       "45        6992\n",
       "         ...  \n",
       "38           1\n",
       "165          1\n",
       "10080        1\n",
       "72000        1\n",
       "72           1\n",
       "Name: avg_play_time, Length: 177, dtype: int64"
      ]
     },
     "execution_count": 39,
     "metadata": {},
     "output_type": "execute_result"
    }
   ],
   "source": [
    "df['avg_play_time'].value_counts()"
   ]
  },
  {
   "cell_type": "code",
   "execution_count": 40,
   "id": "possible-elephant",
   "metadata": {},
   "outputs": [
    {
     "data": {
      "text/plain": [
       "[0,\n",
       " 1,\n",
       " 2,\n",
       " 3,\n",
       " 4,\n",
       " 5,\n",
       " 6,\n",
       " 7,\n",
       " 8,\n",
       " 9,\n",
       " 10,\n",
       " 11,\n",
       " 12,\n",
       " 13,\n",
       " 14,\n",
       " 15,\n",
       " 16,\n",
       " 17,\n",
       " 18,\n",
       " 19,\n",
       " 20,\n",
       " 21,\n",
       " 22,\n",
       " 24,\n",
       " 25,\n",
       " 30,\n",
       " 36,\n",
       " 40,\n",
       " 45,\n",
       " 50,\n",
       " 60,\n",
       " 90,\n",
       " 112,\n",
       " 2017]"
      ]
     },
     "execution_count": 40,
     "metadata": {},
     "output_type": "execute_result"
    }
   ],
   "source": [
    "sorted(df['min_age'].unique())"
   ]
  },
  {
   "cell_type": "code",
   "execution_count": 41,
   "id": "standing-stranger",
   "metadata": {},
   "outputs": [
    {
     "data": {
      "text/plain": [
       "0       22062\n",
       "8       17480\n",
       "12      15234\n",
       "10      12582\n",
       "6        6470\n",
       "14       4485\n",
       "7        4351\n",
       "5        3968\n",
       "4        3133\n",
       "13       3011\n",
       "3        1829\n",
       "9        1534\n",
       "18       1207\n",
       "16        931\n",
       "15        708\n",
       "11        385\n",
       "17        314\n",
       "2         199\n",
       "21        132\n",
       "20         22\n",
       "1          16\n",
       "30         10\n",
       "19          6\n",
       "36          4\n",
       "60          3\n",
       "25          2\n",
       "45          2\n",
       "50          2\n",
       "24          1\n",
       "2017        1\n",
       "22          1\n",
       "40          1\n",
       "112         1\n",
       "90          1\n",
       "Name: min_age, dtype: int64"
      ]
     },
     "execution_count": 41,
     "metadata": {},
     "output_type": "execute_result"
    }
   ],
   "source": [
    "df['min_age'].value_counts()"
   ]
  },
  {
   "cell_type": "code",
   "execution_count": 19,
   "id": "combined-pipeline",
   "metadata": {},
   "outputs": [
    {
     "data": {
      "text/html": [
       "<div>\n",
       "<style scoped>\n",
       "    .dataframe tbody tr th:only-of-type {\n",
       "        vertical-align: middle;\n",
       "    }\n",
       "\n",
       "    .dataframe tbody tr th {\n",
       "        vertical-align: top;\n",
       "    }\n",
       "\n",
       "    .dataframe thead th {\n",
       "        text-align: right;\n",
       "    }\n",
       "</style>\n",
       "<table border=\"1\" class=\"dataframe\">\n",
       "  <thead>\n",
       "    <tr style=\"text-align: right;\">\n",
       "      <th></th>\n",
       "      <th>name</th>\n",
       "      <th>avg_sentiment_score</th>\n",
       "      <th>url</th>\n",
       "      <th>yr_pub</th>\n",
       "      <th>min_players</th>\n",
       "      <th>max_players</th>\n",
       "      <th>avg_play_time</th>\n",
       "      <th>min_play_time</th>\n",
       "      <th>max_play_time</th>\n",
       "      <th>min_age</th>\n",
       "      <th>...</th>\n",
       "      <th>Video Game Theme: SEGA</th>\n",
       "      <th>Video Game Theme: Sonic the Hedgehog</th>\n",
       "      <th>Video Game Theme: Super Mario Bros.</th>\n",
       "      <th>Video Game Theme: Tetris</th>\n",
       "      <th>Webcomics: Dork Tower</th>\n",
       "      <th>Webcomics: Penny Arcade</th>\n",
       "      <th>Word Games: First Letter Given</th>\n",
       "      <th>Word Games: Guess the Word</th>\n",
       "      <th>Word Games: Sign Language</th>\n",
       "      <th>Word Games: Spelling / Letters</th>\n",
       "    </tr>\n",
       "  </thead>\n",
       "  <tbody>\n",
       "    <tr>\n",
       "      <th>15678</th>\n",
       "      <td>Office Space: The Game</td>\n",
       "      <td>0.0</td>\n",
       "      <td>https://boardgamegeek.com/boardgame/311320</td>\n",
       "      <td>2020.0</td>\n",
       "      <td>2</td>\n",
       "      <td>10</td>\n",
       "      <td>30000000</td>\n",
       "      <td>30</td>\n",
       "      <td>30000000</td>\n",
       "      <td>16</td>\n",
       "      <td>...</td>\n",
       "      <td>0</td>\n",
       "      <td>0</td>\n",
       "      <td>0</td>\n",
       "      <td>0</td>\n",
       "      <td>0</td>\n",
       "      <td>0</td>\n",
       "      <td>0</td>\n",
       "      <td>0</td>\n",
       "      <td>0</td>\n",
       "      <td>0</td>\n",
       "    </tr>\n",
       "  </tbody>\n",
       "</table>\n",
       "<p>1 rows × 4420 columns</p>\n",
       "</div>"
      ],
      "text/plain": [
       "                         name  avg_sentiment_score  \\\n",
       "15678  Office Space: The Game                  0.0   \n",
       "\n",
       "                                              url  yr_pub  min_players  \\\n",
       "15678  https://boardgamegeek.com/boardgame/311320  2020.0            2   \n",
       "\n",
       "       max_players  avg_play_time  min_play_time  max_play_time  min_age  ...  \\\n",
       "15678           10       30000000             30       30000000       16  ...   \n",
       "\n",
       "       Video Game Theme: SEGA  Video Game Theme: Sonic the Hedgehog  \\\n",
       "15678                       0                                     0   \n",
       "\n",
       "       Video Game Theme: Super Mario Bros.  Video Game Theme: Tetris  \\\n",
       "15678                                    0                         0   \n",
       "\n",
       "       Webcomics: Dork Tower  Webcomics: Penny Arcade  \\\n",
       "15678                      0                        0   \n",
       "\n",
       "       Word Games: First Letter Given  Word Games: Guess the Word  \\\n",
       "15678                               0                           0   \n",
       "\n",
       "       Word Games: Sign Language  Word Games: Spelling / Letters  \n",
       "15678                          0                               0  \n",
       "\n",
       "[1 rows x 4420 columns]"
      ]
     },
     "execution_count": 19,
     "metadata": {},
     "output_type": "execute_result"
    }
   ],
   "source": [
    "df[df['avg_play_time']>=9999999]"
   ]
  },
  {
   "cell_type": "code",
   "execution_count": null,
   "id": "coordinate-superintendent",
   "metadata": {},
   "outputs": [],
   "source": [
    "#Values for sliders"
   ]
  },
  {
   "cell_type": "code",
   "execution_count": 21,
   "id": "unknown-hungary",
   "metadata": {},
   "outputs": [],
   "source": [
    "#Start with defaults? Note avg. play time is max. play time?\n",
    "min_players = 0\n",
    "max_players = 15000\n",
    "avg_play_time = 30000000\n",
    "min_age = 5000 \n",
    "#remove expansions for the filter?\n",
    "#has_expansion >= 0\n",
    "\n",
    "#pick a rating(?)\n",
    "avg_user_rating = 0\n",
    "bgg_adj_rating = 0 "
   ]
  },
  {
   "cell_type": "code",
   "execution_count": 22,
   "id": "stuck-following",
   "metadata": {},
   "outputs": [],
   "source": [
    "#avg. players, less choices?\n",
    "Y_new = df[(df['min_players']>=min_players)&(df['max_players']<=max_players)&(df['avg_play_time']<=avg_play_time)&\\\n",
    "          (df['min_age']<=min_age)]"
   ]
  },
  {
   "cell_type": "code",
   "execution_count": 27,
   "id": "serious-valley",
   "metadata": {},
   "outputs": [
    {
     "data": {
      "text/html": [
       "<div>\n",
       "<style scoped>\n",
       "    .dataframe tbody tr th:only-of-type {\n",
       "        vertical-align: middle;\n",
       "    }\n",
       "\n",
       "    .dataframe tbody tr th {\n",
       "        vertical-align: top;\n",
       "    }\n",
       "\n",
       "    .dataframe thead th {\n",
       "        text-align: right;\n",
       "    }\n",
       "</style>\n",
       "<table border=\"1\" class=\"dataframe\">\n",
       "  <thead>\n",
       "    <tr style=\"text-align: right;\">\n",
       "      <th></th>\n",
       "      <th>name</th>\n",
       "      <th>avg_sentiment_score</th>\n",
       "      <th>url</th>\n",
       "      <th>yr_pub</th>\n",
       "      <th>min_players</th>\n",
       "      <th>max_players</th>\n",
       "      <th>avg_play_time</th>\n",
       "      <th>min_play_time</th>\n",
       "      <th>max_play_time</th>\n",
       "      <th>min_age</th>\n",
       "      <th>...</th>\n",
       "      <th>Video Game Theme: SEGA</th>\n",
       "      <th>Video Game Theme: Sonic the Hedgehog</th>\n",
       "      <th>Video Game Theme: Super Mario Bros.</th>\n",
       "      <th>Video Game Theme: Tetris</th>\n",
       "      <th>Webcomics: Dork Tower</th>\n",
       "      <th>Webcomics: Penny Arcade</th>\n",
       "      <th>Word Games: First Letter Given</th>\n",
       "      <th>Word Games: Guess the Word</th>\n",
       "      <th>Word Games: Sign Language</th>\n",
       "      <th>Word Games: Spelling / Letters</th>\n",
       "    </tr>\n",
       "  </thead>\n",
       "  <tbody>\n",
       "    <tr>\n",
       "      <th>57521</th>\n",
       "      <td>Pandemic</td>\n",
       "      <td>1.0</td>\n",
       "      <td>https://boardgamegeek.com/boardgame/30549</td>\n",
       "      <td>2008.0</td>\n",
       "      <td>2</td>\n",
       "      <td>4</td>\n",
       "      <td>45</td>\n",
       "      <td>45</td>\n",
       "      <td>45</td>\n",
       "      <td>8</td>\n",
       "      <td>...</td>\n",
       "      <td>0</td>\n",
       "      <td>0</td>\n",
       "      <td>0</td>\n",
       "      <td>0</td>\n",
       "      <td>0</td>\n",
       "      <td>0</td>\n",
       "      <td>0</td>\n",
       "      <td>0</td>\n",
       "      <td>0</td>\n",
       "      <td>0</td>\n",
       "    </tr>\n",
       "  </tbody>\n",
       "</table>\n",
       "<p>1 rows × 4420 columns</p>\n",
       "</div>"
      ],
      "text/plain": [
       "           name  avg_sentiment_score  \\\n",
       "57521  Pandemic                  1.0   \n",
       "\n",
       "                                             url  yr_pub  min_players  \\\n",
       "57521  https://boardgamegeek.com/boardgame/30549  2008.0            2   \n",
       "\n",
       "       max_players  avg_play_time  min_play_time  max_play_time  min_age  ...  \\\n",
       "57521            4             45             45             45        8  ...   \n",
       "\n",
       "       Video Game Theme: SEGA  Video Game Theme: Sonic the Hedgehog  \\\n",
       "57521                       0                                     0   \n",
       "\n",
       "       Video Game Theme: Super Mario Bros.  Video Game Theme: Tetris  \\\n",
       "57521                                    0                         0   \n",
       "\n",
       "       Webcomics: Dork Tower  Webcomics: Penny Arcade  \\\n",
       "57521                      0                        0   \n",
       "\n",
       "       Word Games: First Letter Given  Word Games: Guess the Word  \\\n",
       "57521                               0                           0   \n",
       "\n",
       "       Word Games: Sign Language  Word Games: Spelling / Letters  \n",
       "57521                          0                               0  \n",
       "\n",
       "[1 rows x 4420 columns]"
      ]
     },
     "execution_count": 27,
     "metadata": {},
     "output_type": "execute_result"
    }
   ],
   "source": [
    "Y_new.iloc[test]"
   ]
  },
  {
   "cell_type": "code",
   "execution_count": null,
   "id": "clean-general",
   "metadata": {},
   "outputs": [],
   "source": []
  },
  {
   "cell_type": "code",
   "execution_count": 51,
   "id": "familiar-innocent",
   "metadata": {},
   "outputs": [
    {
     "data": {
      "text/html": [
       "<div>\n",
       "<style scoped>\n",
       "    .dataframe tbody tr th:only-of-type {\n",
       "        vertical-align: middle;\n",
       "    }\n",
       "\n",
       "    .dataframe tbody tr th {\n",
       "        vertical-align: top;\n",
       "    }\n",
       "\n",
       "    .dataframe thead th {\n",
       "        text-align: right;\n",
       "    }\n",
       "</style>\n",
       "<table border=\"1\" class=\"dataframe\">\n",
       "  <thead>\n",
       "    <tr style=\"text-align: right;\">\n",
       "      <th></th>\n",
       "      <th>name</th>\n",
       "      <th>avg_sentiment_score</th>\n",
       "      <th>url</th>\n",
       "      <th>yr_pub</th>\n",
       "      <th>min_players</th>\n",
       "      <th>max_players</th>\n",
       "      <th>avg_play_time</th>\n",
       "      <th>min_play_time</th>\n",
       "      <th>max_play_time</th>\n",
       "      <th>min_age</th>\n",
       "      <th>...</th>\n",
       "      <th>Video Game Theme: SEGA</th>\n",
       "      <th>Video Game Theme: Sonic the Hedgehog</th>\n",
       "      <th>Video Game Theme: Super Mario Bros.</th>\n",
       "      <th>Video Game Theme: Tetris</th>\n",
       "      <th>Webcomics: Dork Tower</th>\n",
       "      <th>Webcomics: Penny Arcade</th>\n",
       "      <th>Word Games: First Letter Given</th>\n",
       "      <th>Word Games: Guess the Word</th>\n",
       "      <th>Word Games: Sign Language</th>\n",
       "      <th>Word Games: Spelling / Letters</th>\n",
       "    </tr>\n",
       "  </thead>\n",
       "  <tbody>\n",
       "    <tr>\n",
       "      <th>0</th>\n",
       "      <td>Troia</td>\n",
       "      <td>0.0000</td>\n",
       "      <td>https://boardgamegeek.com/boardgame/102580</td>\n",
       "      <td>2005.0</td>\n",
       "      <td>2</td>\n",
       "      <td>2</td>\n",
       "      <td>60</td>\n",
       "      <td>60</td>\n",
       "      <td>60</td>\n",
       "      <td>8</td>\n",
       "      <td>...</td>\n",
       "      <td>0</td>\n",
       "      <td>0</td>\n",
       "      <td>0</td>\n",
       "      <td>0</td>\n",
       "      <td>0</td>\n",
       "      <td>0</td>\n",
       "      <td>0</td>\n",
       "      <td>0</td>\n",
       "      <td>0</td>\n",
       "      <td>0</td>\n",
       "    </tr>\n",
       "    <tr>\n",
       "      <th>1</th>\n",
       "      <td>Mauseschlau &amp; Bärenstark: Wissen &amp; Lachen – Un...</td>\n",
       "      <td>-0.3400</td>\n",
       "      <td>https://boardgamegeek.com/boardgame/102595</td>\n",
       "      <td>2009.0</td>\n",
       "      <td>2</td>\n",
       "      <td>4</td>\n",
       "      <td>25</td>\n",
       "      <td>25</td>\n",
       "      <td>25</td>\n",
       "      <td>6</td>\n",
       "      <td>...</td>\n",
       "      <td>0</td>\n",
       "      <td>0</td>\n",
       "      <td>0</td>\n",
       "      <td>0</td>\n",
       "      <td>0</td>\n",
       "      <td>0</td>\n",
       "      <td>0</td>\n",
       "      <td>0</td>\n",
       "      <td>0</td>\n",
       "      <td>0</td>\n",
       "    </tr>\n",
       "    <tr>\n",
       "      <th>2</th>\n",
       "      <td>Quintessential: The Fifth Element</td>\n",
       "      <td>0.9983</td>\n",
       "      <td>https://boardgamegeek.com/boardgame/102597</td>\n",
       "      <td>2011.0</td>\n",
       "      <td>2</td>\n",
       "      <td>5</td>\n",
       "      <td>45</td>\n",
       "      <td>45</td>\n",
       "      <td>45</td>\n",
       "      <td>13</td>\n",
       "      <td>...</td>\n",
       "      <td>0</td>\n",
       "      <td>0</td>\n",
       "      <td>0</td>\n",
       "      <td>0</td>\n",
       "      <td>0</td>\n",
       "      <td>0</td>\n",
       "      <td>0</td>\n",
       "      <td>0</td>\n",
       "      <td>0</td>\n",
       "      <td>0</td>\n",
       "    </tr>\n",
       "    <tr>\n",
       "      <th>3</th>\n",
       "      <td>Wort für Wort</td>\n",
       "      <td>0.4939</td>\n",
       "      <td>https://boardgamegeek.com/boardgame/102598</td>\n",
       "      <td>1998.0</td>\n",
       "      <td>1</td>\n",
       "      <td>5</td>\n",
       "      <td>25</td>\n",
       "      <td>25</td>\n",
       "      <td>25</td>\n",
       "      <td>6</td>\n",
       "      <td>...</td>\n",
       "      <td>0</td>\n",
       "      <td>0</td>\n",
       "      <td>0</td>\n",
       "      <td>0</td>\n",
       "      <td>0</td>\n",
       "      <td>0</td>\n",
       "      <td>0</td>\n",
       "      <td>0</td>\n",
       "      <td>0</td>\n",
       "      <td>0</td>\n",
       "    </tr>\n",
       "    <tr>\n",
       "      <th>4</th>\n",
       "      <td>Hannah Montana Secret Star</td>\n",
       "      <td>0.0000</td>\n",
       "      <td>https://boardgamegeek.com/boardgame/102599</td>\n",
       "      <td>2009.0</td>\n",
       "      <td>2</td>\n",
       "      <td>4</td>\n",
       "      <td>15</td>\n",
       "      <td>15</td>\n",
       "      <td>15</td>\n",
       "      <td>6</td>\n",
       "      <td>...</td>\n",
       "      <td>0</td>\n",
       "      <td>0</td>\n",
       "      <td>0</td>\n",
       "      <td>0</td>\n",
       "      <td>0</td>\n",
       "      <td>0</td>\n",
       "      <td>0</td>\n",
       "      <td>0</td>\n",
       "      <td>0</td>\n",
       "      <td>0</td>\n",
       "    </tr>\n",
       "  </tbody>\n",
       "</table>\n",
       "<p>5 rows × 4420 columns</p>\n",
       "</div>"
      ],
      "text/plain": [
       "                                                name  avg_sentiment_score  \\\n",
       "0                                              Troia               0.0000   \n",
       "1  Mauseschlau & Bärenstark: Wissen & Lachen – Un...              -0.3400   \n",
       "2                  Quintessential: The Fifth Element               0.9983   \n",
       "3                                      Wort für Wort               0.4939   \n",
       "4                         Hannah Montana Secret Star               0.0000   \n",
       "\n",
       "                                          url  yr_pub  min_players  \\\n",
       "0  https://boardgamegeek.com/boardgame/102580  2005.0            2   \n",
       "1  https://boardgamegeek.com/boardgame/102595  2009.0            2   \n",
       "2  https://boardgamegeek.com/boardgame/102597  2011.0            2   \n",
       "3  https://boardgamegeek.com/boardgame/102598  1998.0            1   \n",
       "4  https://boardgamegeek.com/boardgame/102599  2009.0            2   \n",
       "\n",
       "   max_players  avg_play_time  min_play_time  max_play_time  min_age  ...  \\\n",
       "0            2             60             60             60        8  ...   \n",
       "1            4             25             25             25        6  ...   \n",
       "2            5             45             45             45       13  ...   \n",
       "3            5             25             25             25        6  ...   \n",
       "4            4             15             15             15        6  ...   \n",
       "\n",
       "   Video Game Theme: SEGA  Video Game Theme: Sonic the Hedgehog  \\\n",
       "0                       0                                     0   \n",
       "1                       0                                     0   \n",
       "2                       0                                     0   \n",
       "3                       0                                     0   \n",
       "4                       0                                     0   \n",
       "\n",
       "   Video Game Theme: Super Mario Bros.  Video Game Theme: Tetris  \\\n",
       "0                                    0                         0   \n",
       "1                                    0                         0   \n",
       "2                                    0                         0   \n",
       "3                                    0                         0   \n",
       "4                                    0                         0   \n",
       "\n",
       "   Webcomics: Dork Tower  Webcomics: Penny Arcade  \\\n",
       "0                      0                        0   \n",
       "1                      0                        0   \n",
       "2                      0                        0   \n",
       "3                      0                        0   \n",
       "4                      0                        0   \n",
       "\n",
       "   Word Games: First Letter Given  Word Games: Guess the Word  \\\n",
       "0                               0                           0   \n",
       "1                               0                           0   \n",
       "2                               0                           0   \n",
       "3                               0                           0   \n",
       "4                               0                           0   \n",
       "\n",
       "   Word Games: Sign Language  Word Games: Spelling / Letters  \n",
       "0                          0                               0  \n",
       "1                          0                               0  \n",
       "2                          0                               0  \n",
       "3                          0                               0  \n",
       "4                          0                               0  \n",
       "\n",
       "[5 rows x 4420 columns]"
      ]
     },
     "execution_count": 51,
     "metadata": {},
     "output_type": "execute_result"
    }
   ],
   "source": [
    "Y_new.head()"
   ]
  },
  {
   "cell_type": "code",
   "execution_count": 54,
   "id": "approximate-capitol",
   "metadata": {},
   "outputs": [
    {
     "ename": "KeyError",
     "evalue": "\"['name' 'url' 'avg_user_rating' 'bgg_adj_rating'] not found in axis\"",
     "output_type": "error",
     "traceback": [
      "\u001b[0;31m---------------------------------------------------------------------------\u001b[0m",
      "\u001b[0;31mKeyError\u001b[0m                                  Traceback (most recent call last)",
      "\u001b[0;32m<ipython-input-54-1ad9ba13b5b1>\u001b[0m in \u001b[0;36m<module>\u001b[0;34m\u001b[0m\n\u001b[0;32m----> 1\u001b[0;31m \u001b[0mcos_sim\u001b[0m \u001b[0;34m=\u001b[0m \u001b[0mcosine_similarity\u001b[0m\u001b[0;34m(\u001b[0m\u001b[0mX\u001b[0m\u001b[0;34m=\u001b[0m\u001b[0mdf\u001b[0m\u001b[0;34m.\u001b[0m\u001b[0miloc\u001b[0m\u001b[0;34m[\u001b[0m\u001b[0mtest\u001b[0m\u001b[0;34m]\u001b[0m\u001b[0;34m.\u001b[0m\u001b[0mdrop\u001b[0m\u001b[0;34m(\u001b[0m\u001b[0mdrop_cols\u001b[0m\u001b[0;34m,\u001b[0m\u001b[0maxis\u001b[0m\u001b[0;34m=\u001b[0m\u001b[0;36m1\u001b[0m\u001b[0;34m)\u001b[0m\u001b[0;34m,\u001b[0m\u001b[0mY\u001b[0m\u001b[0;34m=\u001b[0m\u001b[0mY_new\u001b[0m\u001b[0;34m.\u001b[0m\u001b[0mdrop\u001b[0m\u001b[0;34m(\u001b[0m\u001b[0mdrop_cols\u001b[0m\u001b[0;34m,\u001b[0m\u001b[0maxis\u001b[0m\u001b[0;34m=\u001b[0m\u001b[0;36m1\u001b[0m\u001b[0;34m)\u001b[0m\u001b[0;34m,\u001b[0m\u001b[0mdense_output\u001b[0m\u001b[0;34m=\u001b[0m\u001b[0;32mFalse\u001b[0m\u001b[0;34m)\u001b[0m\u001b[0;34m\u001b[0m\u001b[0;34m\u001b[0m\u001b[0m\n\u001b[0m",
      "\u001b[0;32m~/anaconda3/lib/python3.7/site-packages/pandas/core/frame.py\u001b[0m in \u001b[0;36mdrop\u001b[0;34m(self, labels, axis, index, columns, level, inplace, errors)\u001b[0m\n\u001b[1;32m   4310\u001b[0m             \u001b[0mlevel\u001b[0m\u001b[0;34m=\u001b[0m\u001b[0mlevel\u001b[0m\u001b[0;34m,\u001b[0m\u001b[0;34m\u001b[0m\u001b[0;34m\u001b[0m\u001b[0m\n\u001b[1;32m   4311\u001b[0m             \u001b[0minplace\u001b[0m\u001b[0;34m=\u001b[0m\u001b[0minplace\u001b[0m\u001b[0;34m,\u001b[0m\u001b[0;34m\u001b[0m\u001b[0;34m\u001b[0m\u001b[0m\n\u001b[0;32m-> 4312\u001b[0;31m             \u001b[0merrors\u001b[0m\u001b[0;34m=\u001b[0m\u001b[0merrors\u001b[0m\u001b[0;34m,\u001b[0m\u001b[0;34m\u001b[0m\u001b[0;34m\u001b[0m\u001b[0m\n\u001b[0m\u001b[1;32m   4313\u001b[0m         )\n\u001b[1;32m   4314\u001b[0m \u001b[0;34m\u001b[0m\u001b[0m\n",
      "\u001b[0;32m~/anaconda3/lib/python3.7/site-packages/pandas/core/generic.py\u001b[0m in \u001b[0;36mdrop\u001b[0;34m(self, labels, axis, index, columns, level, inplace, errors)\u001b[0m\n\u001b[1;32m   4150\u001b[0m         \u001b[0;32mfor\u001b[0m \u001b[0maxis\u001b[0m\u001b[0;34m,\u001b[0m \u001b[0mlabels\u001b[0m \u001b[0;32min\u001b[0m \u001b[0maxes\u001b[0m\u001b[0;34m.\u001b[0m\u001b[0mitems\u001b[0m\u001b[0;34m(\u001b[0m\u001b[0;34m)\u001b[0m\u001b[0;34m:\u001b[0m\u001b[0;34m\u001b[0m\u001b[0;34m\u001b[0m\u001b[0m\n\u001b[1;32m   4151\u001b[0m             \u001b[0;32mif\u001b[0m \u001b[0mlabels\u001b[0m \u001b[0;32mis\u001b[0m \u001b[0;32mnot\u001b[0m \u001b[0;32mNone\u001b[0m\u001b[0;34m:\u001b[0m\u001b[0;34m\u001b[0m\u001b[0;34m\u001b[0m\u001b[0m\n\u001b[0;32m-> 4152\u001b[0;31m                 \u001b[0mobj\u001b[0m \u001b[0;34m=\u001b[0m \u001b[0mobj\u001b[0m\u001b[0;34m.\u001b[0m\u001b[0m_drop_axis\u001b[0m\u001b[0;34m(\u001b[0m\u001b[0mlabels\u001b[0m\u001b[0;34m,\u001b[0m \u001b[0maxis\u001b[0m\u001b[0;34m,\u001b[0m \u001b[0mlevel\u001b[0m\u001b[0;34m=\u001b[0m\u001b[0mlevel\u001b[0m\u001b[0;34m,\u001b[0m \u001b[0merrors\u001b[0m\u001b[0;34m=\u001b[0m\u001b[0merrors\u001b[0m\u001b[0;34m)\u001b[0m\u001b[0;34m\u001b[0m\u001b[0;34m\u001b[0m\u001b[0m\n\u001b[0m\u001b[1;32m   4153\u001b[0m \u001b[0;34m\u001b[0m\u001b[0m\n\u001b[1;32m   4154\u001b[0m         \u001b[0;32mif\u001b[0m \u001b[0minplace\u001b[0m\u001b[0;34m:\u001b[0m\u001b[0;34m\u001b[0m\u001b[0;34m\u001b[0m\u001b[0m\n",
      "\u001b[0;32m~/anaconda3/lib/python3.7/site-packages/pandas/core/generic.py\u001b[0m in \u001b[0;36m_drop_axis\u001b[0;34m(self, labels, axis, level, errors)\u001b[0m\n\u001b[1;32m   4204\u001b[0m                 \u001b[0mlabels_missing\u001b[0m \u001b[0;34m=\u001b[0m \u001b[0;34m(\u001b[0m\u001b[0maxis\u001b[0m\u001b[0;34m.\u001b[0m\u001b[0mget_indexer_for\u001b[0m\u001b[0;34m(\u001b[0m\u001b[0mlabels\u001b[0m\u001b[0;34m)\u001b[0m \u001b[0;34m==\u001b[0m \u001b[0;34m-\u001b[0m\u001b[0;36m1\u001b[0m\u001b[0;34m)\u001b[0m\u001b[0;34m.\u001b[0m\u001b[0many\u001b[0m\u001b[0;34m(\u001b[0m\u001b[0;34m)\u001b[0m\u001b[0;34m\u001b[0m\u001b[0;34m\u001b[0m\u001b[0m\n\u001b[1;32m   4205\u001b[0m                 \u001b[0;32mif\u001b[0m \u001b[0merrors\u001b[0m \u001b[0;34m==\u001b[0m \u001b[0;34m\"raise\"\u001b[0m \u001b[0;32mand\u001b[0m \u001b[0mlabels_missing\u001b[0m\u001b[0;34m:\u001b[0m\u001b[0;34m\u001b[0m\u001b[0;34m\u001b[0m\u001b[0m\n\u001b[0;32m-> 4206\u001b[0;31m                     \u001b[0;32mraise\u001b[0m \u001b[0mKeyError\u001b[0m\u001b[0;34m(\u001b[0m\u001b[0;34mf\"{labels} not found in axis\"\u001b[0m\u001b[0;34m)\u001b[0m\u001b[0;34m\u001b[0m\u001b[0;34m\u001b[0m\u001b[0m\n\u001b[0m\u001b[1;32m   4207\u001b[0m \u001b[0;34m\u001b[0m\u001b[0m\n\u001b[1;32m   4208\u001b[0m             \u001b[0mslicer\u001b[0m \u001b[0;34m=\u001b[0m \u001b[0;34m[\u001b[0m\u001b[0mslice\u001b[0m\u001b[0;34m(\u001b[0m\u001b[0;32mNone\u001b[0m\u001b[0;34m)\u001b[0m\u001b[0;34m]\u001b[0m \u001b[0;34m*\u001b[0m \u001b[0mself\u001b[0m\u001b[0;34m.\u001b[0m\u001b[0mndim\u001b[0m\u001b[0;34m\u001b[0m\u001b[0;34m\u001b[0m\u001b[0m\n",
      "\u001b[0;31mKeyError\u001b[0m: \"['name' 'url' 'avg_user_rating' 'bgg_adj_rating'] not found in axis\""
     ]
    }
   ],
   "source": [
    "cos_sim = cosine_similarity(X=df.iloc[test].drop(drop_cols,axis=1),Y=Y_new.drop(drop_cols,axis=1),dense_output=False)"
   ]
  },
  {
   "cell_type": "code",
   "execution_count": 28,
   "id": "optical-wellington",
   "metadata": {},
   "outputs": [
    {
     "data": {
      "text/plain": [
       "(1, 2469)"
      ]
     },
     "execution_count": 28,
     "metadata": {},
     "output_type": "execute_result"
    }
   ],
   "source": [
    "cos_sim.shape"
   ]
  },
  {
   "cell_type": "code",
   "execution_count": 29,
   "id": "tight-concert",
   "metadata": {},
   "outputs": [],
   "source": [
    "idxs = np.argsort(cos_sim)[:,-11:-1]"
   ]
  },
  {
   "cell_type": "code",
   "execution_count": 30,
   "id": "front-purple",
   "metadata": {},
   "outputs": [
    {
     "name": "stdout",
     "output_type": "stream",
     "text": [
      "[[ 204  395  479    1  495  102 1055  221  975 2356]]\n"
     ]
    }
   ],
   "source": [
    "print(idxs)"
   ]
  },
  {
   "cell_type": "code",
   "execution_count": 31,
   "id": "aware-grammar",
   "metadata": {},
   "outputs": [
    {
     "data": {
      "text/plain": [
       "(1, 10)"
      ]
     },
     "execution_count": 31,
     "metadata": {},
     "output_type": "execute_result"
    }
   ],
   "source": [
    "idxs.shape"
   ]
  },
  {
   "cell_type": "code",
   "execution_count": 40,
   "id": "planned-american",
   "metadata": {},
   "outputs": [
    {
     "name": "stdout",
     "output_type": "stream",
     "text": [
      "[ 204  395  479    1  495  102 1055  221  975 2356]\n",
      "                          name                                         url  \\\n",
      "7907              Gold und Rum    https://boardgamegeek.com/boardgame/6824   \n",
      "16175         Wingy Crocodiles   https://boardgamegeek.com/boardgame/12473   \n",
      "20542  200 Jahre Montgolfieren    https://boardgamegeek.com/boardgame/2804   \n",
      "125               Quadragammon    https://boardgamegeek.com/boardgame/2594   \n",
      "21127               White Lady    https://boardgamegeek.com/boardgame/4693   \n",
      "3541             Money Monsoon   https://boardgamegeek.com/boardgame/14677   \n",
      "43507    Assalto alla Jac Bank  https://boardgamegeek.com/boardgame/114819   \n",
      "8426                 Kavelspel  https://boardgamegeek.com/boardgame/131807   \n",
      "39966             Würfel-Duell    https://boardgamegeek.com/boardgame/1848   \n",
      "95077            Müller & Sohn    https://boardgamegeek.com/boardgame/6874   \n",
      "\n",
      "       min_players  \n",
      "7907             4  \n",
      "16175            4  \n",
      "20542            4  \n",
      "125              4  \n",
      "21127            4  \n",
      "3541             4  \n",
      "43507            4  \n",
      "8426             4  \n",
      "39966            4  \n",
      "95077            4  \n"
     ]
    }
   ],
   "source": [
    "for idx in idxs[::-1]:\n",
    "    print(idx)\n",
    "    print(Y_new.iloc[idx][['name','url','min_players']])"
   ]
  }
 ],
 "metadata": {
  "kernelspec": {
   "display_name": "Python 3",
   "language": "python",
   "name": "python3"
  },
  "language_info": {
   "codemirror_mode": {
    "name": "ipython",
    "version": 3
   },
   "file_extension": ".py",
   "mimetype": "text/x-python",
   "name": "python",
   "nbconvert_exporter": "python",
   "pygments_lexer": "ipython3",
   "version": "3.7.9"
  }
 },
 "nbformat": 4,
 "nbformat_minor": 5
}
